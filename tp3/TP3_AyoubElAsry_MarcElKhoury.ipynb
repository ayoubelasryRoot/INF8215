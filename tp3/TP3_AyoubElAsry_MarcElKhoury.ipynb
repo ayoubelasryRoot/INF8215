{
 "cells": [
  {
   "cell_type": "markdown",
   "metadata": {
    "colab_type": "text",
    "id": "5fHWJhwOXGzh"
   },
   "source": [
    "# INF8215 - Intelligence artif.: méthodes et algorithmes \n",
    "## Automne 2019 - TP3 - Apprentissage machine \n",
    "### Membres de l'équipe\n",
    "    - Marc El Khoury 1798468\n",
    "    - Ayoub El Asry  1800595\n",
    "\n",
    "Nom d'équipe sur Kaggle: Kappa Kingdom"
   ]
  },
  {
   "cell_type": "code",
   "execution_count": 100,
   "metadata": {},
   "outputs": [],
   "source": [
    "# cacher les warnings de pandas et sklearn qui nous avertissent sur de nouvelles versions\n",
    "import warnings\n",
    "warnings.filterwarnings('ignore')"
   ]
  },
  {
   "cell_type": "markdown",
   "metadata": {
    "colab_type": "text",
    "id": "TmGvqtSVgfXi"
   },
   "source": [
    "## Directives de remise\n",
    "Le travail sera réalisé avec la  même équipe que pour les TPs précédents. Vous remettrez ce fichier nommé TP3\\_NomDuMembre1\\_NomDuMembre2\\_NomDuMembre3.ipynb et vos fichiers de soumission csv dans la boîte de remise sur moodle. \n",
    "\n",
    "Tout devra être remis avant le **13 décembre à 23h55**. Tout travail en retard sera pénalisé d’une valeur de 10\\% par jour de retard.\n",
    "\n",
    "## Barème\n",
    "Partie 1: 9 points\n",
    "\n",
    "Partie 2: 9 points\n",
    "\n",
    "Partie 3: 2 points\n",
    "\n",
    "Bonus : 2 points\n",
    "\n",
    "Pour un total de 22 points possibles sur 20 points.\n"
   ]
  },
  {
   "cell_type": "markdown",
   "metadata": {
    "colab_type": "text",
    "id": "P1et8f3nXGzk"
   },
   "source": [
    "## Apprentissage machine\n",
    "L'apprentissage machine est un domaine de plus en plus exploré et exploité. Pouvoir faire des prédictions en se basant sur des données ouvre la porte à plein de possibilités pour faciliter la vie des gens. Par exemple, un modèle pourrait prédire si un patient souffre ou non d'une maladie en se basant sur des mesures de santé.\n",
    "\n",
    "### But\n",
    "Le but de ce TP est de vous donner un aperçu du déroulement général d'un projet de machine learning tout en vous familiarisant avec des librairies python adaptées.\n",
    "\n",
    "Dans la première partie, vous implémenterez un algorithme de classification multiclasse appelé **softmax regression** à l'aide uniquement de la bibliothèque **numpy** et l'intégrerez à la bibliothèque **scikit-learn**.\n",
    "\n",
    "Dans la deuxième partie, vous prendrez connaissance du **dataset** utilisé pour ce projet. Et vous serez amenés à effectuer le **preprocessing** de ces données pour qu'elles soient utilisables dans les algorithmes de machine learning classiques. Vous utiliserez les bibliothèques **pandas** et **scikit-learn**.\n",
    "\n",
    "Enfin, dans la troisième partie, vous comparerez l'efficacité du modèle que vous avez implémenté avec d'autres modèles déjà implémentés dans **sklearn**. Puis vous tenterez d'améliorer les performances de l'algorithme sélectionné.\n",
    "\n",
    "La dernière partie du TP est de soumettre vos prédictions sur **Kaggle**. Vous devez créer un compte et formez une équipe sur Kaggle: https://www.kaggle.com/. La compétition pour le TP se trouve à l'adresse suivante: https://www.kaggle.com/t/7e5ae1ae92d14e06b2560c9ac5602bf6.\n",
    "\n",
    "### Installation\n",
    "\n",
    "Pour installer **pandas** et **scikit-learn** le plus simple est de télécharger et d'installer **Anaconda**. Cet environnement python regroupe les packages les plus utilisés pour le calcul scientifique et la science des données. Vous pouvez aussi installer directement les packages avec pip.\n",
    "\n",
    "Assurez-vous d'avoir au moins la version **20.0** de **scikit-learn**.\n",
    "\n",
    "Vous trouverez la distribution d'anaconda ici : https://www.anaconda.com/download/ .\n"
   ]
  },
  {
   "cell_type": "markdown",
   "metadata": {
    "colab_type": "text",
    "id": "LYyOL7QAXGzm"
   },
   "source": [
    "## Bonus 1: Compétition (2 points)\n",
    "\n",
    "Lorsque vous soumettez vos résultats sur Kaggle, vous obtiendrez votre performance en terme de **Mean F-Score**. Votre score sera affiché sur le leaderboard publique de Kaggle.  Le top 10 sur le leaderboard privée recevront un bonus de 2pts. Vous pouvez soumettre plusieurs fois et choisir 2 soumissions pour être pris en compte pour le classement final. Attention de ne pas overfit sur les données de tests du classement publique."
   ]
  },
  {
   "cell_type": "markdown",
   "metadata": {
    "colab_type": "text",
    "id": "517JwzlPXGzp"
   },
   "source": [
    "# 1. Softmax Regression (12 points)\n",
    "\n",
    "Dans cette partie vous implémenterez **softmax regression** la généralisation de **logistic regression** qui permet d'effectuer de la classification pour un nombre de classe supérieur à 2.\n",
    "\n",
    "**Pour cet exercice, la contrainte est d'utiliser uniquement la bibliothèque numpy**\n",
    "\n",
    "## Encapsulation avec sklearn\n",
    "\n",
    "La classe **SoftmaxClassifier** hérite des classes **BaseEstimator** et **ClassifierMixin** de **scikit-learn** ce qui nous permettra d'utiliser facilement avec notre classifier les outils fournis par scikit-learn dans la suite du TP.\n",
    "\n",
    "Pour la compatibilité, le classifier doit implémenter obligatoirement les méthodes:\n",
    "\n",
    "* **fit**: responsable de l'entraînement du modèle\n",
    "* **predict_proba**: permet de prédire la probabilité de chaque classe pour chaque exemple du dataset fourni.\n",
    "* **predict**: permet de prédire la classe pour chaque exemple du dataset fourni.\n",
    "* **score**: permet de quantifier l'écart entre les classes prédites et les classes réelles pour le dataset fourni\n",
    "* **fit_predict**: permet de faire un fit et retourne les prédictions faites avec cet ensemble.\n",
    "\n",
    "\n",
    "## Train/Test set:\n",
    "\n",
    "Quand on veut tester les performances de l'apprentissage d'un algorithme de machine learning, on **ne le teste pas sur les données utilisées pour l'apprentissage**.\n",
    "\n",
    "En effet, ce qui nous intéresse c'est que notre algorithme soit **capable de généraliser** ses prédictions à des données qu'il n'a **jamais vu**.\n",
    "\n",
    "Pour illustrer, si on teste un algorithme sur les données d'entrainement, on teste sa capacité à **apprendre par coeur** le dataset et non à **généraliser**.\n",
    "\n",
    "Par conséquent, quand on reçoit un nouveau dataset, la première chose à faire et de le **diviser en deux parties**: un ensemble d'**entraînement** (**70-80%** du dataset) et un ensemble de **test**(**20-30%** du dataset).\n",
    "\n",
    "Tous les algorithmes de **traitement des données** et d'apprentissage devront être appris uniquement sur l'ensemble d'entraînement et appliqués ensuite sur l'ensemble de test.\n",
    "\n",
    "Cela garantit l'absence de connaissances préalables de l'ensemble de test lors de l'entrainement.\n",
    "\n",
    "## Gradient descent\n",
    "\n",
    "La descente de gradient est un algorithme qui permet trouver la solution optimale d'un certains nombre de problèmes. Le principe est le suivant: on définit une **fonction de coût J**  qui caractérise le problème.\n",
    "Cette fonction dépend d'un ensemble de paramètres $\\theta$. La descente de gradient cherche à **minimiser** la fonction de coût en **modifiant itérativement** les paramètres.\n",
    "\n",
    "### Gradient\n",
    "\n",
    "Le gradient de la fonction de coût pour un $\\theta$ donné, correspond à la direction dans laquelle il faut modifier $\\theta$ pour augmenter la valeur de la fonction de coût. Cela correspond donc à la dérivée de la fonction de coût.\n",
    "La fonction de coût est minimale quand le gradient est nul.\n",
    "\n",
    "Concrètement, on initialize $\\theta$ aléatoirement, et on effectue à chaque itération un pas pour réduire la fonction de coût jusqu'à convergence de l'algorithme à un minimum.\n",
    "\n",
    "### Learning rate\n",
    "\n",
    "Le taux d'apprentissage correspond à la taille du pas que l'on va effectuer dans la direction du gradient.\n",
    "Plus il est grand, plus la convergence est rapide mais il y a un risque que l'algorithme diverge.\n",
    "\n",
    "Plus il est petit, plus la convergence est lente.\n",
    "\n",
    "### Batch gradient descent\n",
    "\n",
    "Il existe plusieurs algorithmes de descente de gradient. Nous utiliserons Batch gradient descent.\n",
    "\n",
    "Dans cet algorithme, avant de mettre à jour $\\theta$, on calcule les gradients sur l'ensemble des exemples d'entraînement.\n",
    "\n",
    "### Epoch\n",
    "\n",
    "Il s'agit d'un pas de la descente de gradient, soit une mise à jour de gradient.\n",
    "\n",
    "### Bias/Variance tradeoff\n",
    "\n",
    "Lorsqu'on entraine un algorithme de machine learning on cherche un équilibre entre **biais** et **variance**.\n",
    "\n",
    "Un modèle avec un **biais fort**, est un modèle qui est **trop simple** pour la structure donnée considérée (modèle linéaire pour données quadratiques), cela limite la capacité du modèle à généraliser. On appelle aussi le biais **underfitting**.\n",
    "\n",
    "Un modèle avec une **variance élevée** signifie qu'il est sensible aux petites variations dans les données d'entrainement, cela correspond à l'**overfitting**, c'est-à-dire que le modèle est trop proche de la structure de l'ensemble d'entrainement ce qui **limite sa capacité à généraliser**.\n",
    "\n",
    "Un modèle avec un **biais important** aura une **mauvaise performance** sur l'ensemble d'**entraînement**.\n",
    "Un modèle avec une **variance importante** aura une performance bien **moins bonne** sur l'ensemble de **test** que sur l'ensemble d'**entrainement**.\n",
    "\n",
    "Le classifier **SoftmaxRegression** contient les champs suivants:\n",
    "\n",
    "- `lr` : le rythme d'apprentissage pour la mise à jour des points lors de la descente du gradient;\n",
    "- `n_epochs`: le nombre d'itérations;\n",
    "- `eps`: le seuil pour garder les probabilités dans l'intervalle [self.eps;1.-self.eps];\n",
    "- `threshold`: seuil d'arrèt pour le early stopping;\n",
    "- `early_stopping`: active le early stopping\n",
    "- `nb_features`: le nombre d'attributs pour chaque instance\n",
    "- `nb_classes`: le nombre de classes possible pour le dataset\n",
    "- `theta_`:  la matrice de poids"
   ]
  },
  {
   "cell_type": "code",
   "execution_count": 77,
   "metadata": {
    "colab": {},
    "colab_type": "code",
    "id": "UhACgVBXAcUW"
   },
   "outputs": [],
   "source": [
    "from sklearn.base import BaseEstimator, ClassifierMixin\n",
    "import numpy as np\n",
    "from math import exp, log\n",
    "\n",
    "class SoftmaxClassifier(BaseEstimator, ClassifierMixin):  \n",
    "\n",
    "    def __init__(self, lr = 0.1, alpha = 100, n_epochs = 100, eps = 1.0e-5,threshold = 1.0e-10 , early_stopping = True):\n",
    "       \n",
    "        self.lr = lr \n",
    "        self.alpha = alpha\n",
    "        self.n_epochs = n_epochs\n",
    "        self.eps = eps\n",
    "        self.threshold = threshold\n",
    "        self.early_stopping = early_stopping\n",
    "    \n",
    "    # trouver le nombre de classe unique\n",
    "    def get_nb_classes(self, y):\n",
    "        if y is None:\n",
    "            return -1\n",
    "        return len(np.unique(y))\n",
    "\n",
    "\n",
    "    def fit(self, X, y=None):\n",
    "        # ce tableau n'est pas necessaire car on compare le loss précédent avec le courant\n",
    "        self.losses_ = []\n",
    "        self.nb_feature = len(X[0]) + 1\n",
    "        self.nb_classes = self.get_nb_classes(y)\n",
    "        \n",
    "        # rajouter un vecteur de 1 à la première colone pour traiter le bias comme une feature\n",
    "        m = len(X)\n",
    "        X_bias = np.c_[np.ones(m) , X]  \n",
    "\n",
    "        # matrice de poids qui va se mettre à jour\n",
    "        self.theta_ = 0.01 * np.random.rand(self.nb_feature, self.nb_classes)\n",
    "        # représentation numérique du vecteur de classe\n",
    "        one_hot_encoding = self._one_hot(y)\n",
    "        \n",
    "        prev_loss = np.inf\n",
    "        for epoch in range(self.n_epochs):\n",
    "            probabilities = self.predict_proba(X, None)      \n",
    "            prev_loss = self._cost_function(probabilities, one_hot_encoding)   \n",
    "            self.theta_ = self.theta_ - self.lr*self._get_gradient(X_bias, one_hot_encoding, probabilities)\n",
    "            \n",
    "            new_loss = self.score(X, one_hot_encoding)\n",
    "            if self.early_stopping and abs(prev_loss - new_loss) < self.threshold:\n",
    "                return self\n",
    "        return self\n",
    "\n",
    "\n",
    "    def predict_proba(self, X, y=None):\n",
    "        try:\n",
    "            getattr(self, \"theta_\")\n",
    "        except AttributeError:\n",
    "            raise RuntimeError(\"You must train classifer before predicting data!\")\n",
    "        \n",
    "        X_bias = np.c_[np.ones(len(X)), X]\n",
    "        Z = np.dot(X_bias, self.theta_)\n",
    "        P_matrix = []\n",
    "        for z in Z:\n",
    "            P_matrix.append(self._softmax(z))\n",
    "        return np.array(P_matrix)\n",
    "\n",
    "\n",
    "    \n",
    "    def predict(self, X, y=None):\n",
    "        try:\n",
    "            getattr(self, \"theta_\")\n",
    "        except AttributeError:\n",
    "            raise RuntimeError(\"You must train classifer before predicting data!\")\n",
    "        P_matrix = self.predict_proba(X, y)\n",
    "        return np.argmax(P_matrix, axis=1)\n",
    "\n",
    "    \n",
    "    def fit_predict(self, X, y=None):\n",
    "        self.fit(X, y)\n",
    "        return self.predict(X,y)\n",
    " \n",
    "\n",
    "    def score(self, X_bias, one_hot_encoding=None):\n",
    "        probabilities = self.predict_proba(X_bias, one_hot_encoding)\n",
    "        return self._cost_function(probabilities, one_hot_encoding)\n",
    "    \n",
    "    def _cost_function(self, probabilities, one_hot_encoding): \n",
    "        m = len(one_hot_encoding)\n",
    "        cross_sum = 0\n",
    "        for i in range(m):\n",
    "            p = np.log(probabilities[i])\n",
    "            y_i = one_hot_encoding[i]\n",
    "            cross_sum += np.dot(y_i, p)\n",
    "        return (-1 / m) * cross_sum\n",
    "    \n",
    "\n",
    "    def _one_hot(self, y):\n",
    "        matrix=np.zeros((len(y), self.nb_classes))\n",
    "        for i in range(len(y)):\n",
    "            matrix[i][y[i]] = 1\n",
    "        return matrix\n",
    "\n",
    "    \n",
    "    def _softmax(self, z):\n",
    "        p = np.zeros(len(z))\n",
    "        sum_softmax = 0\n",
    "        for value in z:\n",
    "            sum_softmax += exp(value) \n",
    "        for k, value in enumerate(z):\n",
    "            proba_zk = exp(value) / sum_softmax\n",
    "            if proba_zk == 0:\n",
    "                proba_zk = self.eps\n",
    "            if proba_zk >= 1:\n",
    "                proba_zk = 1 - self.eps\n",
    "            p[k] = proba_zk\n",
    "        return p\n",
    "\n",
    "\n",
    "    def _get_gradient(self,X_bias, one_hot_encoding, probabilities):\n",
    "        m = len(X_bias)\n",
    "        return (1/m) * np.dot(np.transpose(X_bias), (probabilities - one_hot_encoding))\n",
    "    "
   ]
  },
  {
   "cell_type": "markdown",
   "metadata": {
    "colab_type": "text",
    "id": "Yv83c1sWXGzq"
   },
   "source": [
    "### 1.1 One-hot-encoding (1 point)\n",
    "\n",
    "En machine learning pour représenter un vecteur de données catégoriques, on utilise le one-hot encoding.\n",
    "\n",
    "Pour un vecteur comportant 5 exemples et 3 catégories différentes, on le représente sous forme d'une matrice de taille 5 par 3. Cette matrice est entièrement remplie de 0 sauf à l'indice correspondant au numéro de la classe pour chaque exemple.\n",
    "\n",
    "\n",
    "Par exemple\n",
    "$ y = \\left(\\begin{array}{cc} \n",
    "0 \\\\\n",
    "0 \\\\\n",
    "1 \\\\\n",
    "2 \\\\\n",
    "1 \\\\\n",
    "\\end{array}\\right) $\n",
    "\n",
    "devient:\n",
    "\n",
    "$ yohe =  \\left(\\begin{array}{cc} \n",
    "1. & 0. & 0.\\\\\n",
    "1. & 0. & 0.\\\\\n",
    "0. & 1. & 0.\\\\\n",
    "0. & 0. & 1.\\\\\n",
    "0. & 1. & 0.\\\\\n",
    "\\end{array}\\right) $\n",
    "\n",
    "\n",
    "#### Implémentation\n",
    "1. Implémentez  la fonction  *`_one_hot()`*  dans SoftmaxClassifier. \n",
    "\n",
    "Utilisez la fonction _testOneHot_ pour vérifier votre implémentation de la fonction. Vous devriez avoir ces résultats:\n",
    "```\n",
    "Premier test\n",
    "[[1. 0. 0. 0. 0. 0.]\n",
    " [0. 1. 0. 0. 0. 0.]\n",
    " [0. 0. 1. 0. 0. 0.]\n",
    " [0. 0. 0. 1. 0. 0.]\n",
    " [0. 0. 0. 0. 1. 0.]\n",
    " [0. 0. 0. 0. 0. 1.]]\n",
    "\n",
    "Deuxième test\n",
    "[[0. 0. 0. 0. 0. 1.]\n",
    " [0. 0. 0. 0. 0. 1.]\n",
    " [0. 0. 0. 0. 0. 1.]\n",
    " [0. 0. 0. 0. 0. 1.]]\n",
    "\n",
    " Troisième test\n",
    "[[1. 0. 0. 0. 0. 0.]\n",
    " [1. 0. 0. 0. 0. 0.]\n",
    " [1. 0. 0. 0. 0. 0.]\n",
    " [1. 0. 0. 0. 0. 0.]]\n",
    " ```"
   ]
  },
  {
   "cell_type": "code",
   "execution_count": 78,
   "metadata": {
    "colab": {
     "base_uri": "https://localhost:8080/",
     "height": 336
    },
    "colab_type": "code",
    "executionInfo": {
     "elapsed": 607,
     "status": "ok",
     "timestamp": 1572273158769,
     "user": {
      "displayName": "Kim Thuyen Ton",
      "photoUrl": "https://lh3.googleusercontent.com/a-/AAuE7mBg1xy2-8526x-b1HLCbT16SZlMsjmtKfyoHRgghw=s64",
      "userId": "10674693358177584608"
     },
     "user_tz": 240
    },
    "id": "HEwBsNVsjvfs",
    "outputId": "aedf1752-21aa-49b8-e31b-8892f3f5e2e6"
   },
   "outputs": [
    {
     "name": "stdout",
     "output_type": "stream",
     "text": [
      "Premier test\n",
      "[[1. 0. 0. 0. 0. 0.]\n",
      " [0. 1. 0. 0. 0. 0.]\n",
      " [0. 0. 1. 0. 0. 0.]\n",
      " [0. 0. 0. 1. 0. 0.]\n",
      " [0. 0. 0. 0. 1. 0.]\n",
      " [0. 0. 0. 0. 0. 1.]]\n",
      "\n",
      "Deuxième test\n",
      "[[0. 0. 0. 0. 0. 1.]\n",
      " [0. 0. 0. 0. 0. 1.]\n",
      " [0. 0. 0. 0. 0. 1.]\n",
      " [0. 0. 0. 0. 0. 1.]]\n",
      "\n",
      "Troisième test\n",
      "[[1. 0. 0. 0. 0. 0.]\n",
      " [1. 0. 0. 0. 0. 0.]\n",
      " [1. 0. 0. 0. 0. 0.]\n",
      " [1. 0. 0. 0. 0. 0.]]\n"
     ]
    }
   ],
   "source": [
    "def testOneHot():\n",
    "    softmax = SoftmaxClassifier()\n",
    "    softmax.nb_classes = 6 # les classes possibles sont donc 0-5\n",
    "\n",
    "    y1= np.array([0,1,2,3,4,5])\n",
    "    y1.shape = (6,1)\n",
    "    print('Premier test')\n",
    "    print(softmax._one_hot(y1))\n",
    "\n",
    "    y2 = np.array([5,5,5,5])\n",
    "    y2.shape = (4,1)\n",
    "    print('\\nDeuxième test')\n",
    "    print(softmax._one_hot(y2))\n",
    "\n",
    "    y3 = np.array([0,0,0,0])\n",
    "    y3.shape = (4,1)\n",
    "    print('\\nTroisième test')\n",
    "    print(softmax._one_hot(y3))\n",
    "\n",
    "\n",
    "testOneHot()"
   ]
  },
  {
   "cell_type": "markdown",
   "metadata": {
    "colab_type": "text",
    "id": "vwxvqYj4XGzu"
   },
   "source": [
    "### 1.2 Matrice de poids (1 point)\n",
    "\n",
    "Soit $ X_{m * n} $ la matrice d'exemple et $ \\Theta _{n*K} $ la matrice de poids avec:\n",
    "\n",
    "* **m** le nombre d'exemples\n",
    "* **n** le nombre de features\n",
    "* **k** le nombre de classes\n",
    "\n",
    "Il est d'usage d'ajouter une colonne supplémentaire à X. Cette colonne est remplie de 1 et se trouve au début de la matrice. Elle représente un biais. Pour prendre en compte ce changement, il faut aussi rajouter une ligne à la matrice $\\Theta$.\n",
    "\n",
    "On obtient X_bias$_{m*(n+1)}$ et $ \\Theta _{(n+1)*K} $\n",
    "\n",
    "\n",
    "Intuitivement, à chaque classe K est associée une colonne de $\\theta$.\n",
    "\n",
    "On note $\\theta_k$ le vecteur de dimension n+1 la colonne de poids associée à la prédiction de la classe k.\n",
    "\n",
    "$\\Theta$ = [$\\theta_0$,$\\theta_1$... $\\theta_k$]\n",
    "\n",
    "Ainsi $ z = x * \\Theta $ donne un vecteur de dimension K qui correspond aux **logits** associés à x pour chacune des classes.\n",
    "\n",
    "#### Implémentation\n",
    "1. Instanciez X_bias dans les fonctions  *`fit()`* et `predict_proba()`.\n",
    "2. initialisez $\\Theta$ aléatoirement dans la fonction  *`fit()`*.\n",
    "3. Instanciez aussi le nombre de features et de classe de SoftmaxClassifier dans la fonction  *`fit()`*.\n",
    "\n",
    "**Notez que votre fonction fit n'est pas encore complète.**"
   ]
  },
  {
   "cell_type": "markdown",
   "metadata": {
    "colab_type": "text",
    "id": "6UTIxaGIXGzz"
   },
   "source": [
    "### 1.3 Softmax (1 point)\n",
    "\n",
    "On veut convertir le vecteur de logits **z** obtenu dans la partie précédente, en un **vecteur de probabilité**.\n",
    "\n",
    "Pour cela on définit la **fonction softmax**:\n",
    "\n",
    "$$ \\hat{p_x}^k = softmax(z)_k = \\frac{exp(z_k)}{\\sum_{\\substack{1<j<K}} exp(z_j)} $$\n",
    "\n",
    "Intuitivement, pour un logit de z, $z_k$, on prend l'exponentielle de cette valeur et on la divise par la somme des exponentielles de chaque logit du vecteur **z**. On obtient  $\\hat{p_x}^k$ la probabilité que l'exemple **x** appartienne à la classe **k**.\n",
    "\n",
    "On réitère l'opération pour chaque logit du vecteur **z**. \n",
    "\n",
    "On obtient ainsi un vecteur de probabilités $\\hat{p_x}$ pour un exemple **x**. \n",
    "\n",
    "La division permet de rendre la somme des termes du vecteur $\\hat{p_x}$ égale à 1 ce qui est indispensable dans le cadre des probabilités.\n",
    "\n",
    "#### Implémentation\n",
    "1. Implémentez  la fonction  *`_softmax()`*  dans SoftmaxClassifier. "
   ]
  },
  {
   "cell_type": "markdown",
   "metadata": {
    "colab_type": "text",
    "id": "g5_N31uPXGz2"
   },
   "source": [
    "### 1.4 Prédictions (1 point)\n",
    "\n",
    "Maintenant que vous avez implémentée la fonction **_softmax**, vous pouvez implémenter  les fonctions  **predict_proba** et **predict**  dans SoftmaxClassifier. \n",
    "\n",
    "#### Implémentation\n",
    "1. Implémenter la fonction *`predict_proba()`* de la classe SoftmaxClassifier. Cette fonction retourne les probabilités associées à chaque classe pour chacune des instances à prédire.\n",
    "\n",
    "2. Implémenter la fonction *`predict()`* de la classe SoftmaxClassifier. Cette fonction retourne la classe avec la plus grande probabilité pour chacunes des intances à prédire."
   ]
  },
  {
   "cell_type": "markdown",
   "metadata": {
    "colab_type": "text",
    "id": "cj5Ghd5jXGz6"
   },
   "source": [
    "### 1.5 Fonction de coût Log loss (2 points)\n",
    "\n",
    "Soit la fonction de coût log loss (ou cross entropy):\n",
    "\n",
    "$$ J( \\Theta) = \\frac{-1}{m}\\sum_{\\substack{1<i<m}} \\sum_{\\substack{1<k<K}} y_k^i log( \\hat{p_k}^i ) $$\n",
    "\n",
    "avec:\n",
    "* **K** le nombre de classes\n",
    "* **m** le nombre d'exemples dans les données\n",
    "* $ \\hat{p_k}^i  $  la probabilité que l'exemple i soit de la classe k\n",
    "* $y_k^i$ vaut 1 si la classe cible de l'exemple i est k, 0 sinon\n",
    "\n",
    "Le coût correspond donc à la moyenne multiplié par -1 des sommes des multiplications des probabilités pour chaque classe pour chaque élement. Autrement dit, plus le coût est petit, plus les prédictions correspondent bien aux étiquettes.\n",
    "\n",
    "\n",
    "**Détail d'implémentation:** La fonction n'est pas définie pour des valeurs de probabilité de 0 ou 1. Il faut donc s'assurer que étant donné $\\epsilon$, les probabilités sont comprises dans [$\\epsilon$, 1. - $\\epsilon$].\n",
    "#### Implémentation\n",
    "1. Implémentez  la fonction  *`_cost_function()`*  dans SoftmaxClassifier en prenant en utilisant la variable self.eps. Utilisez le format one-hot pour représenter $y_k^i$.\n",
    "2.  Utilisez *`_cost_function()`* pour calculer la variable *`loss`* dans la fonction `fit()`"
   ]
  },
  {
   "cell_type": "markdown",
   "metadata": {
    "colab_type": "text",
    "id": "vODCJbRaXGz-"
   },
   "source": [
    "### 1.6 Gradient de la fonction de coût (1 point)\n",
    "\n",
    "Le **gradient de J** par rapport à la classe k (par rapport à $\\theta_k$) est :\n",
    "\n",
    "\n",
    "$$ \\Delta_{\\theta_k}J( \\Theta) = \\frac{1}{m} \\sum_{\\substack{1<i<m}}( \\hat{p_k}^i - y_k^i)x^i  $$\n",
    "\n",
    "avec:\n",
    "* **K** le nombre de classes\n",
    "* **m** le nombre d'exemples dans les données\n",
    "* $ \\hat{p_k}^i  $  la probabilité que l'exemple i soit de la classe k\n",
    "* $y_k^i$ vaut 1 si la classe cible de l'exemple i est k, 0 sinon\n",
    "\n",
    "Sous **forme matricielle**, on peut écrire le **gradient de J par rapport à $\\Theta$**:\n",
    "$$ \\Delta_J( \\Theta) = \\frac{1}{m} X_{bias}^T *( \\hat{p} - y_{ohe}) $$\n",
    "\n",
    "avec:\n",
    "* $\\hat{p}$ la matrice de probabilité prédite pour chaque example et pour chaque classe\n",
    "* $y_{ohe}$ la version one-hot de y\n",
    "* $X_{bias}^T$  la matrice transposée de $X_{bias}$\n",
    "* **\\*** le produit matriciel\n",
    "\n",
    "#### Implémentation\n",
    "1. Implémentez  la fonction  *`_get_gradient()`*  dans SoftmaxClassifier en vous basant sur la forme matricielle du gradient."
   ]
  },
  {
   "cell_type": "markdown",
   "metadata": {
    "colab_type": "text",
    "id": "Y5EOpj9TXG0B"
   },
   "source": [
    "### 1.7 Mise à jour des poids (1 point)\n",
    "\n",
    "Quand le gradient a été calculé, il faut mettre à jour les poids avec ces gradients.\n",
    "\n",
    "$$ \\Theta  = \\Theta - \\gamma \\Delta J( \\Theta) $$\n",
    "\n",
    "\n",
    "avec:\n",
    "* $\\Theta$ la matrice de poids\n",
    "* $\\gamma$  le taux d'apprentissage\n",
    "* $\\Delta J( \\Theta)$ le gradient de $J( \\Theta)$ selon $\\Theta$\n",
    "\n",
    "#### Implémentation\n",
    "1. Mettez à jour la variable **self.theta_** dans la fonction `fit()`  dans SoftmaxClassifier."
   ]
  },
  {
   "cell_type": "markdown",
   "metadata": {
    "colab_type": "text",
    "id": "9QrP9uYPXG0I"
   },
   "source": [
    "### 1.8 Évaluation (1 point)\n",
    "\n",
    "Quand on veut évaluer la performance du modèle **après entrainement**, on utilise la fonction de coût. Autrement dit, on compare les prédictions avec les vrais valeurs et calcule un score.\n",
    "\n",
    "#### Implémentation\n",
    "1. Implémentez la fonction `score()` qui permet d'évaluer la qualité de la prédiction **après entrainement** dans SoftmaxClassifier. Elle utilise le log loss comme métrique."
   ]
  },
  {
   "cell_type": "markdown",
   "metadata": {
    "colab_type": "text",
    "id": "Ewh3I_jEXG0N"
   },
   "source": [
    "### 1.9 Early stopping (1 point)\n",
    "\n",
    "Un trop grand nombre d'**epoch** peut résulter en **overfitting**.\n",
    "Pour pallier à ce problème, on peut utiliser le mécanisme d'**early stopping**.\n",
    "Il s'agit d'arrêter l'entraînement si la différence de la fonction de coût entre deux **epochs consécutives** est inférieure à un **seuil**.\n",
    "\n",
    "\n",
    "\n",
    "\n",
    "#### Implémentation\n",
    "\n",
    "1. Ajouter le mécanisme d'**early stopping**  quand le booléen **self.early_stopping** est vrai dans la fonction `fit()`. Le seuil est donné par la variable **self.threshold**."
   ]
  },
  {
   "cell_type": "markdown",
   "metadata": {
    "colab_type": "text",
    "id": "JdNEVRveXG0Q"
   },
   "source": [
    "### 1.10 Test de la solution (2 points)\n",
    "\n",
    "Le code ci-dessous importe le dataset de classification multiclasse **iris** disponible sur sklearn. Les données sont divisées en deux parties, l'ensemble d'entraînement et l'ensemble de test, puis elles sont normalisées.\n",
    "\n",
    "Le classifier est entrainé sur l'ensemble d'entrainement et testé sur l'ensemble de test.\n",
    "\n",
    "Le but de cette partie est juste de vérifier votre implémentation **quand vous êtes sûrs que votre code fonctionne**."
   ]
  },
  {
   "cell_type": "code",
   "execution_count": 79,
   "metadata": {
    "colab": {},
    "colab_type": "code",
    "id": "1-2UipMRXG0R"
   },
   "outputs": [],
   "source": [
    "import numpy as np\n",
    "from sklearn.datasets import load_iris\n",
    "from sklearn.model_selection import train_test_split\n",
    "from sklearn.preprocessing import StandardScaler\n",
    "\n",
    "# load dataset\n",
    "data,target = load_iris().data,load_iris().target\n",
    "\n",
    "# split data in train/test sets\n",
    "X_train, X_test, y_train, y_test = train_test_split( data, target, test_size=0.33, random_state=42)\n",
    "\n",
    "# standardize columns using normal distribution\n",
    "# fit on X_train and not on X_test to avoid Data Leakage\n",
    "s = StandardScaler()\n",
    "X_train = s.fit_transform(X_train)\n",
    "X_test = s.transform(X_test)"
   ]
  },
  {
   "cell_type": "code",
   "execution_count": 80,
   "metadata": {
    "colab": {},
    "colab_type": "code",
    "id": "8qnflIdzXG0T"
   },
   "outputs": [],
   "source": [
    "cl = SoftmaxClassifier()\n",
    "\n",
    "# train on X_train and not on X_test to avoid overfitting\n",
    "train_p = cl.fit_predict(X_train, y_train)\n",
    "test_p = cl.predict(X_test)"
   ]
  },
  {
   "cell_type": "markdown",
   "metadata": {
    "colab_type": "text",
    "id": "hFt-r3nQXG0V"
   },
   "source": [
    "Si vous obtenez des valeurs relativement proches pour l'ensemble de test et d'entrainement, et qu'elles sont au moins supérieures à 0.8, votre modèle devrait être correct"
   ]
  },
  {
   "cell_type": "code",
   "execution_count": 81,
   "metadata": {
    "colab": {},
    "colab_type": "code",
    "id": "GmqcqadpXG0W"
   },
   "outputs": [
    {
     "name": "stdout",
     "output_type": "stream",
     "text": [
      "train : (0.9324929971988795, 0.9324929971988795, 0.9323671497584541, None)\n",
      "test : (0.8985507246376812, 0.8444444444444444, 0.8387216648086214, None)\n"
     ]
    }
   ],
   "source": [
    "from sklearn.metrics import precision_recall_fscore_support\n",
    "\n",
    "# display precision, recall and f1-score on train/test set\n",
    "print(\"train : \"+ str(precision_recall_fscore_support(y_train, train_p,average = \"macro\")))\n",
    "print(\"test : \"+ str(precision_recall_fscore_support(y_test, test_p,average = \"macro\")))"
   ]
  },
  {
   "cell_type": "markdown",
   "metadata": {
    "colab_type": "text",
    "id": "r3FmllqgXG0d"
   },
   "source": [
    "# 2. Data preprocessing (6 points)\n",
    "\n",
    "##  Kaggle \n",
    "Kaggle est un site dédié au machine learning. On y retrouve un grand nombre de dataset.\n",
    "Des compétitions sont organisées par des organisations. Ces dernières fournissent un dataset et un objectif. Les \"kagglers\" qui participent à ces compétitions soumettent leurs résultats en ligne. Il y a souvent des prix ou des emplois pour ceux qui obtiennent les meilleurs résultats.\n",
    "\n",
    "Il s'agit d'un bon moyen pour développer ses compétences en machine learning sur des vrais datasets.\n",
    "\n",
    "Vous devez créer un compte et formez une équipe sur Kaggle: https://www.kaggle.com/. La compétition pour le TP se trouve à l'adresse suivante: https://www.kaggle.com/c/tp3-inf8215-a19.\n",
    "\n",
    "\n",
    "## Income dataset\n",
    "Le dataset que nous utiliserons est le \"Income dataset\" disponible sur le site de la compétition. C'est une version modifiée du dataset \"Adult\" de UCI qui se trouve à cette adresse: https://archive.ics.uci.edu/ml/datasets/Adult.\n",
    "\n",
    "Il s'agit d'un problème de **classification binaire** du salaire de la personne. Le but est de prédire dans quel catégorie ils appartiennent:\n",
    "* $\\lt=50K$\n",
    "* $\\gt50K$\n",
    "\n",
    "Pour plus d'informations sur les données, lisez la description sur kaggle.\n",
    "\n",
    "## Déroulement d'un projet de machine learning\n",
    "\n",
    "Le but de la suite de ce TP est de vous faire étudier une version simplifiée d'un projet complet de machine learning:\n",
    "\n",
    "1. Nettoyage des données, traitement des valeurs manquantes\n",
    "2. Mise en forme des données pour pouvoir les utiliser dans les algorithmes de machine learning\n",
    "3. Feature engineering: transformation ou combinaison de features entre elles\n",
    "4. Comparaison des performances des différents choix effectués lors du traîtement des données\n",
    "5. Comparaison des performances de différents modèles (dont celui implémenté en première partie)\n",
    "6. Optimisation des hyper-paramètres\n",
    "\n",
    "## Scikit-learn\n",
    "http://scikit-learn.org/stable/\n",
    "\n",
    "Il s'agit d'une bibliothèque de machine learning et data mining, elle propose des outils pour l'analyse et le traîtement des données,  des algorithmes classiques de machine learning comme les réseaux de neuronnes, la régression logistique, les SVM ou autre, enfin des outils permettant de comparer les modèles entre eux comme la cross validation.\n",
    "\n",
    "## Pandas\n",
    "\n",
    "Une bibliothèque permettant de stocker des données et de les manipuler facilement\n",
    "\n",
    "Les deux éléments de base de pandas sont le dataframe et la serie.\n",
    "\n",
    "https://pandas.pydata.org/pandas-docs/version/0.23/generated/pandas.DataFrame.html\n",
    "\n",
    "## Data processing tutorial\n",
    "\n",
    "**Avant de continuer le TP**, familiarisez-vous avec le **pré-traitement des données**, **pandas** et **scikit-learn**, un tutoriel est disponible dans le fichier: **data_processing_tutorial.ipynb**"
   ]
  },
  {
   "cell_type": "markdown",
   "metadata": {
    "colab_type": "text",
    "id": "uJxSGCnOXG0e"
   },
   "source": [
    "## Dataset\n",
    "\n",
    "#### Chargement de l'ensemble d'entraînement et de l'ensemble de test"
   ]
  },
  {
   "cell_type": "code",
   "execution_count": 82,
   "metadata": {
    "colab": {},
    "colab_type": "code",
    "id": "KrmSiTseXG0f"
   },
   "outputs": [],
   "source": [
    "import pandas as pd\n",
    "from sklearn.preprocessing import OneHotEncoder\n",
    "\n",
    "# changer le path avec votre path\n",
    "X_train = pd.read_csv(\"./train.csv\", encoding=\"utf-8-sig\")\n",
    "X_test = pd.read_csv(\"./test.csv\")"
   ]
  },
  {
   "cell_type": "markdown",
   "metadata": {
    "colab_type": "text",
    "id": "996_M0-sXG0w"
   },
   "source": [
    "#### 5 premiers exemples de l'ensemble d'entraînement"
   ]
  },
  {
   "cell_type": "code",
   "execution_count": 83,
   "metadata": {},
   "outputs": [
    {
     "data": {
      "text/html": [
       "<div>\n",
       "<style scoped>\n",
       "    .dataframe tbody tr th:only-of-type {\n",
       "        vertical-align: middle;\n",
       "    }\n",
       "\n",
       "    .dataframe tbody tr th {\n",
       "        vertical-align: top;\n",
       "    }\n",
       "\n",
       "    .dataframe thead th {\n",
       "        text-align: right;\n",
       "    }\n",
       "</style>\n",
       "<table border=\"1\" class=\"dataframe\">\n",
       "  <thead>\n",
       "    <tr style=\"text-align: right;\">\n",
       "      <th></th>\n",
       "      <th>index</th>\n",
       "      <th>Age</th>\n",
       "      <th>Workclass</th>\n",
       "      <th>Final weight</th>\n",
       "      <th>Education</th>\n",
       "      <th>Marital-status</th>\n",
       "      <th>Occupation</th>\n",
       "      <th>Relationship</th>\n",
       "      <th>Sex</th>\n",
       "      <th>Capital-gain</th>\n",
       "      <th>Capital-loss</th>\n",
       "      <th>Hours per week</th>\n",
       "      <th>Native country</th>\n",
       "      <th>Income</th>\n",
       "    </tr>\n",
       "  </thead>\n",
       "  <tbody>\n",
       "    <tr>\n",
       "      <th>0</th>\n",
       "      <td>36721</td>\n",
       "      <td>36</td>\n",
       "      <td>Private</td>\n",
       "      <td>31023</td>\n",
       "      <td>Masters</td>\n",
       "      <td>Married-civ-spouse</td>\n",
       "      <td>Exec-managerial</td>\n",
       "      <td>Husband</td>\n",
       "      <td>Male</td>\n",
       "      <td>0</td>\n",
       "      <td>0</td>\n",
       "      <td>50</td>\n",
       "      <td>United-States</td>\n",
       "      <td>&gt;50K.</td>\n",
       "    </tr>\n",
       "    <tr>\n",
       "      <th>1</th>\n",
       "      <td>2638</td>\n",
       "      <td>52</td>\n",
       "      <td>?</td>\n",
       "      <td>159755</td>\n",
       "      <td>Assoc-voc</td>\n",
       "      <td>Married-civ-spouse</td>\n",
       "      <td>?</td>\n",
       "      <td>Husband</td>\n",
       "      <td>Male</td>\n",
       "      <td>0</td>\n",
       "      <td>0</td>\n",
       "      <td>50</td>\n",
       "      <td>United-States</td>\n",
       "      <td>&gt;50K</td>\n",
       "    </tr>\n",
       "    <tr>\n",
       "      <th>2</th>\n",
       "      <td>36214</td>\n",
       "      <td>36</td>\n",
       "      <td>Private</td>\n",
       "      <td>359001</td>\n",
       "      <td>Assoc-voc</td>\n",
       "      <td>Divorced</td>\n",
       "      <td>Craft-repair</td>\n",
       "      <td>Not-in-family</td>\n",
       "      <td>Male</td>\n",
       "      <td>0</td>\n",
       "      <td>0</td>\n",
       "      <td>40</td>\n",
       "      <td>United-States</td>\n",
       "      <td>&lt;=50K.</td>\n",
       "    </tr>\n",
       "    <tr>\n",
       "      <th>3</th>\n",
       "      <td>27010</td>\n",
       "      <td>42</td>\n",
       "      <td>Self-emp-inc</td>\n",
       "      <td>188615</td>\n",
       "      <td>Bachelors</td>\n",
       "      <td>Married-civ-spouse</td>\n",
       "      <td>Sales</td>\n",
       "      <td>Husband</td>\n",
       "      <td>Male</td>\n",
       "      <td>0</td>\n",
       "      <td>0</td>\n",
       "      <td>60</td>\n",
       "      <td>United-States</td>\n",
       "      <td>&gt;50K</td>\n",
       "    </tr>\n",
       "    <tr>\n",
       "      <th>4</th>\n",
       "      <td>27506</td>\n",
       "      <td>44</td>\n",
       "      <td>Private</td>\n",
       "      <td>43711</td>\n",
       "      <td>Bachelors</td>\n",
       "      <td>Never-married</td>\n",
       "      <td>Other-service</td>\n",
       "      <td>Not-in-family</td>\n",
       "      <td>Male</td>\n",
       "      <td>0</td>\n",
       "      <td>0</td>\n",
       "      <td>48</td>\n",
       "      <td>United-States</td>\n",
       "      <td>&lt;=50K</td>\n",
       "    </tr>\n",
       "  </tbody>\n",
       "</table>\n",
       "</div>"
      ],
      "text/plain": [
       "   index  Age      Workclass  Final weight   Education       Marital-status  \\\n",
       "0  36721   36        Private         31023     Masters   Married-civ-spouse   \n",
       "1   2638   52              ?        159755   Assoc-voc   Married-civ-spouse   \n",
       "2  36214   36        Private        359001   Assoc-voc             Divorced   \n",
       "3  27010   42   Self-emp-inc        188615   Bachelors   Married-civ-spouse   \n",
       "4  27506   44        Private         43711   Bachelors        Never-married   \n",
       "\n",
       "         Occupation    Relationship    Sex  Capital-gain  Capital-loss  \\\n",
       "0   Exec-managerial         Husband   Male             0             0   \n",
       "1                 ?         Husband   Male             0             0   \n",
       "2      Craft-repair   Not-in-family   Male             0             0   \n",
       "3             Sales         Husband   Male             0             0   \n",
       "4     Other-service   Not-in-family   Male             0             0   \n",
       "\n",
       "   Hours per week  Native country   Income  \n",
       "0              50   United-States    >50K.  \n",
       "1              50   United-States     >50K  \n",
       "2              40   United-States   <=50K.  \n",
       "3              60   United-States     >50K  \n",
       "4              48   United-States    <=50K  "
      ]
     },
     "execution_count": 83,
     "metadata": {},
     "output_type": "execute_result"
    }
   ],
   "source": [
    "X_train.head()"
   ]
  },
  {
   "cell_type": "markdown",
   "metadata": {
    "colab_type": "text",
    "id": "kSM01gVZXG0z"
   },
   "source": [
    "#### 5 premiers exemples de l'ensemble de test"
   ]
  },
  {
   "cell_type": "code",
   "execution_count": 84,
   "metadata": {
    "colab": {},
    "colab_type": "code",
    "id": "UMVNvQ9yXG00"
   },
   "outputs": [
    {
     "data": {
      "text/html": [
       "<div>\n",
       "<style scoped>\n",
       "    .dataframe tbody tr th:only-of-type {\n",
       "        vertical-align: middle;\n",
       "    }\n",
       "\n",
       "    .dataframe tbody tr th {\n",
       "        vertical-align: top;\n",
       "    }\n",
       "\n",
       "    .dataframe thead th {\n",
       "        text-align: right;\n",
       "    }\n",
       "</style>\n",
       "<table border=\"1\" class=\"dataframe\">\n",
       "  <thead>\n",
       "    <tr style=\"text-align: right;\">\n",
       "      <th></th>\n",
       "      <th>index</th>\n",
       "      <th>Age</th>\n",
       "      <th>Workclass</th>\n",
       "      <th>Final weight</th>\n",
       "      <th>Education</th>\n",
       "      <th>Marital-status</th>\n",
       "      <th>Occupation</th>\n",
       "      <th>Relationship</th>\n",
       "      <th>Sex</th>\n",
       "      <th>Capital-gain</th>\n",
       "      <th>Capital-loss</th>\n",
       "      <th>Hours per week</th>\n",
       "      <th>Native country</th>\n",
       "    </tr>\n",
       "  </thead>\n",
       "  <tbody>\n",
       "    <tr>\n",
       "      <th>0</th>\n",
       "      <td>7762</td>\n",
       "      <td>18</td>\n",
       "      <td>Private</td>\n",
       "      <td>423024.0</td>\n",
       "      <td>HS-grad</td>\n",
       "      <td>Never-married</td>\n",
       "      <td>Other-service</td>\n",
       "      <td>Not-in-family</td>\n",
       "      <td>Male</td>\n",
       "      <td>0.0</td>\n",
       "      <td>0.0</td>\n",
       "      <td>20.0</td>\n",
       "      <td>United-States</td>\n",
       "    </tr>\n",
       "    <tr>\n",
       "      <th>1</th>\n",
       "      <td>23881</td>\n",
       "      <td>17</td>\n",
       "      <td>Private</td>\n",
       "      <td>178953.0</td>\n",
       "      <td>12th</td>\n",
       "      <td>Never-married</td>\n",
       "      <td>Sales</td>\n",
       "      <td>Own-child</td>\n",
       "      <td>Female</td>\n",
       "      <td>0.0</td>\n",
       "      <td>0.0</td>\n",
       "      <td>20.0</td>\n",
       "      <td>United-States</td>\n",
       "    </tr>\n",
       "    <tr>\n",
       "      <th>2</th>\n",
       "      <td>30507</td>\n",
       "      <td>25</td>\n",
       "      <td>Local-gov</td>\n",
       "      <td>348986.0</td>\n",
       "      <td>HS-grad</td>\n",
       "      <td>Never-married</td>\n",
       "      <td>Handlers-cleaners</td>\n",
       "      <td>Other-relative</td>\n",
       "      <td>Male</td>\n",
       "      <td>0.0</td>\n",
       "      <td>0.0</td>\n",
       "      <td>40.0</td>\n",
       "      <td>United-States</td>\n",
       "    </tr>\n",
       "    <tr>\n",
       "      <th>3</th>\n",
       "      <td>28911</td>\n",
       "      <td>20</td>\n",
       "      <td>Private</td>\n",
       "      <td>218215.0</td>\n",
       "      <td>Some-college</td>\n",
       "      <td>Never-married</td>\n",
       "      <td>Sales</td>\n",
       "      <td>Own-child</td>\n",
       "      <td>Female</td>\n",
       "      <td>0.0</td>\n",
       "      <td>0.0</td>\n",
       "      <td>30.0</td>\n",
       "      <td>United-States</td>\n",
       "    </tr>\n",
       "    <tr>\n",
       "      <th>4</th>\n",
       "      <td>19484</td>\n",
       "      <td>47</td>\n",
       "      <td>Private</td>\n",
       "      <td>244025.0</td>\n",
       "      <td>HS-grad</td>\n",
       "      <td>Never-married</td>\n",
       "      <td>Machine-op-inspct</td>\n",
       "      <td>Unmarried</td>\n",
       "      <td>Male</td>\n",
       "      <td>0.0</td>\n",
       "      <td>0.0</td>\n",
       "      <td>56.0</td>\n",
       "      <td>Puerto-Rico</td>\n",
       "    </tr>\n",
       "  </tbody>\n",
       "</table>\n",
       "</div>"
      ],
      "text/plain": [
       "   index  Age   Workclass  Final weight      Education  Marital-status  \\\n",
       "0   7762   18     Private      423024.0        HS-grad   Never-married   \n",
       "1  23881   17     Private      178953.0           12th   Never-married   \n",
       "2  30507   25   Local-gov      348986.0        HS-grad   Never-married   \n",
       "3  28911   20     Private      218215.0   Some-college   Never-married   \n",
       "4  19484   47     Private      244025.0        HS-grad   Never-married   \n",
       "\n",
       "           Occupation     Relationship      Sex  Capital-gain  Capital-loss  \\\n",
       "0       Other-service    Not-in-family     Male           0.0           0.0   \n",
       "1               Sales        Own-child   Female           0.0           0.0   \n",
       "2   Handlers-cleaners   Other-relative     Male           0.0           0.0   \n",
       "3               Sales        Own-child   Female           0.0           0.0   \n",
       "4   Machine-op-inspct        Unmarried     Male           0.0           0.0   \n",
       "\n",
       "   Hours per week  Native country  \n",
       "0            20.0   United-States  \n",
       "1            20.0   United-States  \n",
       "2            40.0   United-States  \n",
       "3            30.0   United-States  \n",
       "4            56.0     Puerto-Rico  "
      ]
     },
     "execution_count": 84,
     "metadata": {},
     "output_type": "execute_result"
    }
   ],
   "source": [
    "X_test.head()"
   ]
  },
  {
   "cell_type": "markdown",
   "metadata": {
    "colab_type": "text",
    "id": "vli9bS98XG04"
   },
   "source": [
    "#### 5 premiers exemples de l'attribut à prédire"
   ]
  },
  {
   "cell_type": "code",
   "execution_count": 85,
   "metadata": {},
   "outputs": [
    {
     "data": {
      "text/plain": [
       "0     >50K\n",
       "1     >50K\n",
       "2    <=50K\n",
       "3     >50K\n",
       "4    <=50K\n",
       "Name: Income, dtype: object"
      ]
     },
     "execution_count": 85,
     "metadata": {},
     "output_type": "execute_result"
    }
   ],
   "source": [
    "#uniformisons les donnees pour avoir seulement 2 classes\n",
    "X_train['Income'] = [ '<=50K' if '<=' in x else '>50K' for x in X_train['Income']]\n",
    "y_train = X_train['Income']\n",
    "y_train.head()"
   ]
  },
  {
   "cell_type": "markdown",
   "metadata": {
    "colab_type": "text",
    "id": "qkm_PxPOXG08"
   },
   "source": [
    "## Travail demandé\n",
    "\n",
    "En vous appuyant sur le tutoriel fourni, vous devez écrire un pipeline complet de transformation pour chacune des colonnes du dataset.\n",
    "\n",
    "Vous êtes **libres** de vos choix, mais vous devez les **justifer** colonne par colonne.\n",
    "Par exemple, vous pouvez choisir de combiner des colonnes entre elles, de séparer une colonne en plusieurs ou encore d'éliminer complètement une colonne si vous le justifiez correctement.\n"
   ]
  },
  {
   "cell_type": "markdown",
   "metadata": {
    "colab_type": "text",
    "id": "HOX3V-pbBNYm"
   },
   "source": [
    "####  2.1 Preprocessing (3 points)\n",
    "\n",
    "Vous devez justifier toutes les transformations que vous faites sur les données pour faciliter l'utilisation des données lors de l'entraînement du modèle. Vous pouvez justifier avec de la logique ou des preuves numériques. **Attention de ne pas tomber dans le piège du overfitting**.\n",
    "\n",
    "**ATTENTION** Vous devez avoir un meilleur score que le baseline pour le classement privé pour avoir votre point au complet pour la partie 2.1. Ce score est une bonne mesure pour savoir si votre traitement est correct.\n",
    "\n",
    "1. Justifier tous les choix de traitements que vous faites ici."
   ]
  },
  {
   "cell_type": "markdown",
   "metadata": {
    "colab_type": "text",
    "id": "bjKBBvUMLpFD"
   },
   "source": [
    "\n",
    "Colonne(s) | Traitement | Justification |\n",
    " :---: | :---: | :---: |\n",
    "  Native Country | Nous avons categoriser les valeurs entre United States et Other. Nous avons applique la classification binaire | Nous avons observer que la valeur United-States etait tres grande et les autres valeurs etaient presque negligeables avec United-States\n",
    "   Sex | Nous avons applique la classification binaire avec un label encoder | Les valeurs etaient textuelles et ceci permet de mieu les identifier |\n",
    "    Capital Gain | Nous avons normalise ces valeurs | Nous voulious pouvoir comparer les valeurs a une meme echelle |\n",
    "    Capital Loss | Nous avons normalise ces valeurs | Nous voulious pouvoir comparer les valeurs a une meme echelle |\n",
    "    Hours Per Week | Nous avons normalise ces valeurs | Nous voulious pouvoir comparer les valeurs a une meme echelle |\n",
    "    Occupation | Nous avons applique le one hot encoding | Nous avions des valeurs textuelles |\n",
    "    Relationship | Nous utilisons pas ces donnees | Marital status nous donne les memes informations |\n",
    "    Marital Status | Nous change les doones en classification binaire, ou bien une personne est marie ou elle est single | Nous avions trouves plus pertinent d'avoir une classification binaire qui montre l'une ou l'autre |\n",
    "    WorkClass | Nous avons applique le one hot encoding | Nous avions des valeurs textuelles |\n",
    "    Final Weight | Nous avons normalise ces valeurs | Nous voulious pouvoir comparer les valeurs a une meme echelle |\n",
    "    Age | Nous avons normalise ces valeurs | Nous voulious pouvoir comparer les valeurs a une meme echelle |\n",
    " "
   ]
  },
  {
   "cell_type": "markdown",
   "metadata": {
    "colab_type": "text",
    "id": "ssOZnxpIXG1K"
   },
   "source": [
    "### 2.2 Pipeline (3 points)\n",
    "Pour faciliter le processus du traitement de données, une pipeline est utilisée. Cela permet de rapidement modifier les transformations appliquées sur l'ensemble de données.\n",
    "\n",
    "#### Implémentation\n",
    "1. Implémenter et associer vos méthodes de traitements a des pipelines.\n",
    "2. Mettez tous vos pipelines dans le ColumnTransformer."
   ]
  },
  {
   "cell_type": "code",
   "execution_count": 86,
   "metadata": {
    "colab": {},
    "colab_type": "code",
    "id": "7jD82yEyW8PQ"
   },
   "outputs": [],
   "source": [
    "from sklearn.base import BaseEstimator, TransformerMixin\n",
    "\n",
    "## Wrapper pour vous aider pour les pipelines\n",
    "class TransformationWrapper(BaseEstimator,TransformerMixin):\n",
    "    \n",
    "    def __init__(self,fitation= None, transformation = None): \n",
    "        \n",
    "        self.transformation = transformation\n",
    "        self.fitation = fitation\n",
    "        \n",
    "    \n",
    "        \n",
    "    def fit(self, X, y=None):\n",
    "        X = pd.DataFrame(X)\n",
    "        self.data_ = None\n",
    "        self.column_name_ = X.columns[0]\n",
    "        if self.fitation == None:\n",
    "            return self\n",
    "        \n",
    "        self.data_ = [self.fitation(X[self.column_name_])]\n",
    "        return self  \n",
    "    \n",
    "    def transform(self, X, y=None): \n",
    "        X = pd.DataFrame(X)\n",
    "        \n",
    "        if self.data_ != None:\n",
    "            return pd.DataFrame(X.apply(\n",
    "                lambda row: pd.Series( self.transformation(row[self.column_name_], self.data_)),\n",
    "                axis = 1\n",
    "            ))\n",
    "        else:\n",
    "            return pd.DataFrame(X.apply(\n",
    "                lambda row: pd.Series( self.transformation(row[self.column_name_])),\n",
    "                axis = 1\n",
    "            ))\n",
    "        \n",
    "        \n",
    "from sklearn.preprocessing import LabelEncoder\n",
    "\n",
    "class LabelEncoderP(LabelEncoder):\n",
    "    def fit(self, X, y=None):\n",
    "        super(LabelEncoderP, self).fit(X)\n",
    "    def transform(self, X, y=None):\n",
    "        return pd.DataFrame(super(LabelEncoderP, self).transform(X))\n",
    "    def fit_transform(self, X, y=None):\n",
    "        return super(LabelEncoderP, self).fit(X).transform(X)"
   ]
  },
  {
   "cell_type": "code",
   "execution_count": 87,
   "metadata": {
    "colab": {},
    "colab_type": "code",
    "id": "QgJNaKhbE1RB"
   },
   "outputs": [],
   "source": [
    "# Implémenter ici les différentes transformations customs ici pour que cela soit plus claires (Si vous en avez)\n",
    "\n",
    "def country_data_transformation(country):\n",
    "    if country == 'United-states':\n",
    "        return country\n",
    "    else: return 'Other'\n",
    "    \n",
    "def marital_status_transformation(status):\n",
    "    if status == ' Married-civ-spouse' or status ==  'Married-spouse-absent' or status == 'Married-AF-spouse':\n",
    "        return 'Married'\n",
    "    else:\n",
    "        return 'Single'\n",
    "   "
   ]
  },
  {
   "cell_type": "code",
   "execution_count": 88,
   "metadata": {
    "colab": {},
    "colab_type": "code",
    "id": "N97zWoWQXG1K"
   },
   "outputs": [],
   "source": [
    "from sklearn.pipeline import Pipeline, FeatureUnion\n",
    "from sklearn.compose import ColumnTransformer\n",
    "from sklearn.impute import SimpleImputer\n",
    "\n",
    "\n",
    "#pour les constant fill value, nous avons choisi les valeurs qui reviennent le plus souvent\n",
    "\n",
    "pipeline_country = Pipeline([\n",
    "    (\"fill\", SimpleImputer(strategy = 'constant', fill_value = \"United-States\")),\n",
    "    ('country', TransformationWrapper(transformation = country_data_transformation)),\n",
    "    (\"encode\",LabelEncoderP()),\n",
    "])\n",
    "\n",
    "pipeline_final_weight = Pipeline([\n",
    "    (\"fillna\", SimpleImputer(strategy = 'mean') ),\n",
    "    (\"scaler\",StandardScaler())\n",
    "])\n",
    "\n",
    "pipeline_capital_gain = Pipeline([\n",
    "    (\"fillna\", SimpleImputer(strategy = 'mean') ),\n",
    "    (\"scaler\",StandardScaler())\n",
    "])\n",
    "\n",
    "\n",
    "pipeline_capital_loss = Pipeline([\n",
    "    (\"fillna\", SimpleImputer(strategy = 'mean') ),\n",
    "    (\"scaler\",StandardScaler())\n",
    "])\n",
    "\n",
    "pipeline_hours_per_week = Pipeline([\n",
    "    (\"fillna\", SimpleImputer(strategy = 'mean') ),\n",
    "    (\"scaler\",StandardScaler())\n",
    "])\n",
    "\n",
    "pipeline_age = Pipeline([\n",
    "    (\"fillna\", SimpleImputer(strategy = 'mean') ),\n",
    "    (\"scaler\",StandardScaler())\n",
    "])\n",
    "\n",
    "pipeline_education = Pipeline([\n",
    "    (\"fillna\", SimpleImputer(strategy = 'constant', fill_value = 'HS-Grad')),\n",
    "    (\"encode\",OneHotEncoder(categories = 'auto', sparse = False))\n",
    "])\n",
    "\n",
    "pipeline_sex = Pipeline([\n",
    "    (\"fillna\", SimpleImputer(strategy = 'constant', fill_value = 'Male')),\n",
    "    (\"encode\",LabelEncoderP())\n",
    "])\n",
    "\n",
    "\n",
    "\n",
    "pipeline_marital_status = Pipeline([\n",
    "    (\"fillna\", SimpleImputer(strategy = 'constant', fill_value = 'Married-civ-spouse')),\n",
    "    ('marital_status', TransformationWrapper(transformation = marital_status_transformation)),\n",
    "    (\"encode\",LabelEncoderP())\n",
    "])\n",
    "\n",
    "\n",
    "pipeline_workclass = Pipeline([\n",
    "    (\"fillna\", SimpleImputer(strategy = 'constant', fill_value = 'Private')),\n",
    "    (\"encode\",OneHotEncoder(categories = 'auto', sparse = False))\n",
    "])\n",
    "\n",
    "pipeline_occupation = Pipeline([\n",
    "    (\"fillna\", SimpleImputer(strategy = 'constant', fill_value = 'Exec-managerial')),\n",
    "    (\"encode\",OneHotEncoder(categories = 'auto', sparse = False))\n",
    "])\n",
    "\n",
    "\n",
    "full_pipeline = ColumnTransformer([\n",
    "         (\"Native country\", pipeline_country, [\"Native country\"]),\n",
    "         (\"Final weight\", pipeline_final_weight, [\"Final weight\"]),\n",
    "         (\"Capital-gain\", pipeline_capital_gain, [\"Capital-gain\"]),\n",
    "         (\"Capital-loss\", pipeline_capital_loss, [\"Capital-loss\"]),\n",
    "         (\"Hours per week\", pipeline_hours_per_week, [\"Hours per week\"]),\n",
    "         (\"Age\", pipeline_age, [\"Age\"]),\n",
    "         (\"Education\", pipeline_education, [\"Education\"]),\n",
    "         (\"Sex\", pipeline_sex, [\"Sex\"]),\n",
    "         (\"Occupation\", pipeline_occupation, [\"Occupation\"]),\n",
    "         (\"Marital-status\", pipeline_marital_status, [\"Marital-status\"]),\n",
    "         (\"Workclass\", pipeline_workclass, [\"Workclass\"]),\n",
    "    ])"
   ]
  },
  {
   "cell_type": "markdown",
   "metadata": {
    "colab_type": "text",
    "id": "TcprzRziXG1Q"
   },
   "source": [
    "Lancez le pipeline"
   ]
  },
  {
   "cell_type": "code",
   "execution_count": 89,
   "metadata": {
    "colab": {},
    "colab_type": "code",
    "id": "1YAV0fTfXG1R"
   },
   "outputs": [
    {
     "data": {
      "text/html": [
       "<div>\n",
       "<style scoped>\n",
       "    .dataframe tbody tr th:only-of-type {\n",
       "        vertical-align: middle;\n",
       "    }\n",
       "\n",
       "    .dataframe tbody tr th {\n",
       "        vertical-align: top;\n",
       "    }\n",
       "\n",
       "    .dataframe thead th {\n",
       "        text-align: right;\n",
       "    }\n",
       "</style>\n",
       "<table border=\"1\" class=\"dataframe\">\n",
       "  <thead>\n",
       "    <tr style=\"text-align: right;\">\n",
       "      <th></th>\n",
       "      <th>Native Country</th>\n",
       "      <th>Final Weight</th>\n",
       "      <th>Capital Gain</th>\n",
       "      <th>Capital Loss</th>\n",
       "      <th>Hours Per Week</th>\n",
       "      <th>Age</th>\n",
       "      <th>Education_1</th>\n",
       "      <th>Education_2</th>\n",
       "      <th>Education_3</th>\n",
       "      <th>Education_4</th>\n",
       "      <th>...</th>\n",
       "      <th>Marital_status_</th>\n",
       "      <th>Workclass_1</th>\n",
       "      <th>Workclass_2</th>\n",
       "      <th>Workclass_3</th>\n",
       "      <th>Workclass_4</th>\n",
       "      <th>Workclass_5</th>\n",
       "      <th>Workclass_6</th>\n",
       "      <th>Workclass_7</th>\n",
       "      <th>Workclass_8</th>\n",
       "      <th>Workclass_9</th>\n",
       "    </tr>\n",
       "  </thead>\n",
       "  <tbody>\n",
       "    <tr>\n",
       "      <th>0</th>\n",
       "      <td>0.0</td>\n",
       "      <td>-1.503257</td>\n",
       "      <td>-0.146117</td>\n",
       "      <td>-0.218564</td>\n",
       "      <td>0.774580</td>\n",
       "      <td>-0.190154</td>\n",
       "      <td>0.0</td>\n",
       "      <td>0.0</td>\n",
       "      <td>0.0</td>\n",
       "      <td>0.0</td>\n",
       "      <td>...</td>\n",
       "      <td>0.0</td>\n",
       "      <td>0.0</td>\n",
       "      <td>0.0</td>\n",
       "      <td>0.0</td>\n",
       "      <td>0.0</td>\n",
       "      <td>1.0</td>\n",
       "      <td>0.0</td>\n",
       "      <td>0.0</td>\n",
       "      <td>0.0</td>\n",
       "      <td>0.0</td>\n",
       "    </tr>\n",
       "    <tr>\n",
       "      <th>1</th>\n",
       "      <td>0.0</td>\n",
       "      <td>-0.285780</td>\n",
       "      <td>-0.146117</td>\n",
       "      <td>-0.218564</td>\n",
       "      <td>0.774580</td>\n",
       "      <td>0.974165</td>\n",
       "      <td>0.0</td>\n",
       "      <td>0.0</td>\n",
       "      <td>0.0</td>\n",
       "      <td>0.0</td>\n",
       "      <td>...</td>\n",
       "      <td>0.0</td>\n",
       "      <td>1.0</td>\n",
       "      <td>0.0</td>\n",
       "      <td>0.0</td>\n",
       "      <td>0.0</td>\n",
       "      <td>0.0</td>\n",
       "      <td>0.0</td>\n",
       "      <td>0.0</td>\n",
       "      <td>0.0</td>\n",
       "      <td>0.0</td>\n",
       "    </tr>\n",
       "    <tr>\n",
       "      <th>2</th>\n",
       "      <td>0.0</td>\n",
       "      <td>1.598580</td>\n",
       "      <td>-0.146117</td>\n",
       "      <td>-0.218564</td>\n",
       "      <td>-0.030764</td>\n",
       "      <td>-0.190154</td>\n",
       "      <td>0.0</td>\n",
       "      <td>0.0</td>\n",
       "      <td>0.0</td>\n",
       "      <td>0.0</td>\n",
       "      <td>...</td>\n",
       "      <td>1.0</td>\n",
       "      <td>0.0</td>\n",
       "      <td>0.0</td>\n",
       "      <td>0.0</td>\n",
       "      <td>0.0</td>\n",
       "      <td>1.0</td>\n",
       "      <td>0.0</td>\n",
       "      <td>0.0</td>\n",
       "      <td>0.0</td>\n",
       "      <td>0.0</td>\n",
       "    </tr>\n",
       "    <tr>\n",
       "      <th>3</th>\n",
       "      <td>0.0</td>\n",
       "      <td>-0.012838</td>\n",
       "      <td>-0.146117</td>\n",
       "      <td>-0.218564</td>\n",
       "      <td>1.579923</td>\n",
       "      <td>0.246465</td>\n",
       "      <td>0.0</td>\n",
       "      <td>0.0</td>\n",
       "      <td>0.0</td>\n",
       "      <td>0.0</td>\n",
       "      <td>...</td>\n",
       "      <td>0.0</td>\n",
       "      <td>0.0</td>\n",
       "      <td>0.0</td>\n",
       "      <td>0.0</td>\n",
       "      <td>0.0</td>\n",
       "      <td>0.0</td>\n",
       "      <td>1.0</td>\n",
       "      <td>0.0</td>\n",
       "      <td>0.0</td>\n",
       "      <td>0.0</td>\n",
       "    </tr>\n",
       "    <tr>\n",
       "      <th>4</th>\n",
       "      <td>0.0</td>\n",
       "      <td>-1.383261</td>\n",
       "      <td>-0.146117</td>\n",
       "      <td>-0.218564</td>\n",
       "      <td>0.613511</td>\n",
       "      <td>0.392005</td>\n",
       "      <td>0.0</td>\n",
       "      <td>0.0</td>\n",
       "      <td>0.0</td>\n",
       "      <td>0.0</td>\n",
       "      <td>...</td>\n",
       "      <td>1.0</td>\n",
       "      <td>0.0</td>\n",
       "      <td>0.0</td>\n",
       "      <td>0.0</td>\n",
       "      <td>0.0</td>\n",
       "      <td>1.0</td>\n",
       "      <td>0.0</td>\n",
       "      <td>0.0</td>\n",
       "      <td>0.0</td>\n",
       "      <td>0.0</td>\n",
       "    </tr>\n",
       "  </tbody>\n",
       "</table>\n",
       "<p>5 rows × 48 columns</p>\n",
       "</div>"
      ],
      "text/plain": [
       "   Native Country  Final Weight  Capital Gain  Capital Loss  Hours Per Week  \\\n",
       "0             0.0     -1.503257     -0.146117     -0.218564        0.774580   \n",
       "1             0.0     -0.285780     -0.146117     -0.218564        0.774580   \n",
       "2             0.0      1.598580     -0.146117     -0.218564       -0.030764   \n",
       "3             0.0     -0.012838     -0.146117     -0.218564        1.579923   \n",
       "4             0.0     -1.383261     -0.146117     -0.218564        0.613511   \n",
       "\n",
       "        Age  Education_1  Education_2  Education_3  Education_4  ...  \\\n",
       "0 -0.190154          0.0          0.0          0.0          0.0  ...   \n",
       "1  0.974165          0.0          0.0          0.0          0.0  ...   \n",
       "2 -0.190154          0.0          0.0          0.0          0.0  ...   \n",
       "3  0.246465          0.0          0.0          0.0          0.0  ...   \n",
       "4  0.392005          0.0          0.0          0.0          0.0  ...   \n",
       "\n",
       "   Marital_status_  Workclass_1  Workclass_2  Workclass_3  Workclass_4  \\\n",
       "0              0.0          0.0          0.0          0.0          0.0   \n",
       "1              0.0          1.0          0.0          0.0          0.0   \n",
       "2              1.0          0.0          0.0          0.0          0.0   \n",
       "3              0.0          0.0          0.0          0.0          0.0   \n",
       "4              1.0          0.0          0.0          0.0          0.0   \n",
       "\n",
       "   Workclass_5  Workclass_6  Workclass_7  Workclass_8  Workclass_9  \n",
       "0          1.0          0.0          0.0          0.0          0.0  \n",
       "1          0.0          0.0          0.0          0.0          0.0  \n",
       "2          1.0          0.0          0.0          0.0          0.0  \n",
       "3          0.0          1.0          0.0          0.0          0.0  \n",
       "4          1.0          0.0          0.0          0.0          0.0  \n",
       "\n",
       "[5 rows x 48 columns]"
      ]
     },
     "execution_count": 89,
     "metadata": {},
     "output_type": "execute_result"
    }
   ],
   "source": [
    "column_names = ['Native Country', 'Final Weight', 'Capital Gain', 'Capital Loss' , 'Hours Per Week', 'Age', 'Education_1', \n",
    "                'Education_2', 'Education_3', 'Education_4', 'Education_5', 'Education_6', 'Education_7', 'Education_8', \n",
    "                'Education_9', 'Education_10', 'Education_11', 'Education_12', 'Education_13', 'Education_14', 'Education_15', \n",
    "                'Education_16', 'Sex',  'Occupation_1', 'Occupation_2', 'Occupation_3',\n",
    "                'Occupation_4', 'Occupation_5', 'Occupation_6', 'Occupation_7', 'Occupation_8', 'Occupation_9', 'Occupation_10', 'Occupation_11',\n",
    "                'Occupation_12', 'Occupation_13', 'Occupation_14', 'Occupation_15', 'Marital_status_','Workclass_1', 'Workclass_2', 'Workclass_3',\n",
    "               'Workclass_4', 'Workclass_5', 'Workclass_6', 'Workclass_7', 'Workclass_8', 'Workclass_9'] # TODO ajouter les noms des colonnes selon le nouvel ordre du pipeline\n",
    "\n",
    "# Nous creeons la colonne income car sinon elle nous retourne une erreur qu'il manque une feature\n",
    "X_test['Income'] = ''\n",
    "X_train_preprocess = pd.DataFrame(full_pipeline.fit_transform(X_train), columns=column_names)\n",
    "X_test_preprocess = pd.DataFrame(full_pipeline.transform(X_test), columns=column_names)\n",
    "\n",
    "X_train_preprocess.head()"
   ]
  },
  {
   "cell_type": "markdown",
   "metadata": {
    "colab_type": "text",
    "id": "jZWQoaa2XG1Z"
   },
   "source": [
    "# 3. Model selection (2 points)"
   ]
  },
  {
   "cell_type": "markdown",
   "metadata": {
    "colab_type": "text",
    "id": "JxwJyM9gXG1Z"
   },
   "source": [
    "Encodage de la classe cible sous forme d'entiers pour l'utiliser\n",
    "avec les algorithmes de scikit-learn. Vous devez avoir 2 classes."
   ]
  },
  {
   "cell_type": "code",
   "execution_count": 90,
   "metadata": {
    "colab": {},
    "colab_type": "code",
    "id": "mXfDgss4XG1a"
   },
   "outputs": [
    {
     "name": "stdout",
     "output_type": "stream",
     "text": [
      "[1 1 0 ... 0 0 0]\n"
     ]
    }
   ],
   "source": [
    "from sklearn.preprocessing import LabelEncoder\n",
    "target_label = LabelEncoder()\n",
    "y_train_label = target_label.fit_transform(y_train)\n",
    "print(y_train_label)"
   ]
  },
  {
   "cell_type": "markdown",
   "metadata": {
    "colab_type": "text",
    "id": "5ekhKj0cXG1e"
   },
   "source": [
    "## 3.1 Ensemble de validation (0.5 point)\n",
    "Pour comparer différents modèles entre eux, on ne peut pas utiliser\n",
    "l'ensemble de test, sinon on serait tenté de garder le modèle correspondant le mieux à l'ensemble de test ce qui pourrait conduire à l'overfitting.\n",
    "\n",
    "Il est d'usage de créer un nouvel ensemble de la taille de l'ensemble de test, l'ensemble de **validation**.\n",
    "\n",
    "###  Cross-validation\n",
    "\n",
    "La cross-validation est une méthode utile pour comparer la performance de différents modèles de machine learning **sans créer d'ensemble de validation**.\n",
    "\n",
    "Il existe différents types de cross-validation, la procédure la plus classique est la suivante:\n",
    "* Diviser aléatoirement l'ensemble d'entraînement en deux parties (90%/10% par exemple).\n",
    "* Entraîner le modèle sur la plus grande partie, et le tester sur l'autre partie.\n",
    "* Recommencer n fois\n",
    "* Calculer la moyenne et l'écart type des résultats\n",
    "\n",
    "Les avantages sont les suivants:\n",
    "* Considérer la totalité de l'ensemble d'entraînement pour l'évaluation (sans se priver de l'ensemble de validation)\n",
    "* Obtenir l'écart-type des résultats permet une meilleure évaluation de la précision du modèle.\n",
    "\n",
    "L'inconvénient principal est le temps de calcul, étant donné que l'on effectue l'apprentissage du modèle plusieurs fois, cette méthode peut être impossible pour des datasets contenant un grand nombre d'exemple (> 10e5)\n",
    "\n",
    "### Implémentation\n",
    "1. Implémenter la fonction `compare()`. Cette fonction effectue la crossvalidation pour différents modèles et retourne la moyenne et l'écart-type des métriques pour chaque modèle.\n",
    "\n"
   ]
  },
  {
   "cell_type": "code",
   "execution_count": 91,
   "metadata": {
    "colab": {},
    "colab_type": "code",
    "id": "WF3S-utAXG1k"
   },
   "outputs": [],
   "source": [
    "from sklearn.model_selection import cross_validate\n",
    "def compare(models,X_train,y_train,nb_runs,scoring):\n",
    "    scores = []\n",
    "    for model in models:\n",
    "        cv_scores = cross_validate(model, X_train, y_train, scoring=scoring, cv = nb_runs)\n",
    "        for key in cv_scores:\n",
    "            mean = np.mean(cv_scores[key])\n",
    "            standardDeviation = np.std(cv_scores[key])\n",
    "            cv_scores[key] = { 'mean' : mean, 'standardDeviation' : standardDeviation}\n",
    "        scores.append(cv_scores)\n",
    "    return scores"
   ]
  },
  {
   "cell_type": "markdown",
   "metadata": {
    "colab_type": "text",
    "id": "GMqcqhGxXG1j"
   },
   "source": [
    "## 3.2 Essai de modèle de sklearn (0.5 point)\n",
    "\n",
    "\n",
    "**Choisir au moins deux modèles permettant la classification binaire sur sklearn en plus du modèle implémenté dans la première partie du TP**.\n",
    "\n",
    "**En vous basant sur les différentes métriques retournées par la fonction `compare()`, concluez quant au modèle le plus performant.**\n",
    "\n",
    "Evaluez les modèles pour les différentes métriques proposées:\n",
    "* **log loss**: c'est la métrique d'évaluation de kaggle\n",
    "* **precision**: correspond à la qualité de la prédiction, le nombre de classes correctement prédites par le nombre de prédiction total\n",
    "* **recall**: le nombre d'éléments appartenant à une classe, identifiés comme tel, divisé par le nombre total des éléments de cette classe.\n",
    "* **f-score**: une moyenne de la precision et du recall\n",
    "\n",
    "**Remarque: precision et recall sont deux mesures complémentaires pour l'évaluation d'un modèle de classification.**\n",
    "\n",
    "Dans le cas d'une classification binaire avec un déséquilibre de la classe cible important, (90%/10%), en évaluant le résultat de la classification avec l'accuracy (nombre de prédictions correctes divisé par le nombre de prédictions total), on peut obtenir un très bon score (90% d'accuracy) en choisissant de prédire systématiquement la classe majoritaire.\n",
    "\n",
    "Dans un tel cas, la precision serait élevée de même, mais le recall serait très bas , nous indiquant la médiocrité de notre modèle.\n"
   ]
  },
  {
   "cell_type": "code",
   "execution_count": 92,
   "metadata": {
    "colab": {},
    "colab_type": "code",
    "id": "gSsKSE6cXG1n"
   },
   "outputs": [],
   "source": [
    "from sklearn.linear_model import LogisticRegression\n",
    "from sklearn.tree import DecisionTreeClassifier\n",
    "from sklearn.ensemble import RandomForestClassifier\n",
    "from sklearn.neural_network import MLPClassifier\n",
    "from sklearn.tree import DecisionTreeClassifier\n",
    "\n",
    "nb_run = 3\n",
    "\n",
    "models = [\n",
    "    RandomForestClassifier(),\n",
    "    DecisionTreeClassifier(),\n",
    "    MLPClassifier(alpha=1e-05, hidden_layer_sizes=(15,), random_state=1,solver='lbfgs'),\n",
    "    SoftmaxClassifier() # le modele que vous avez implémenté plus haut\n",
    "]\n",
    "\n",
    "scoring = ['neg_log_loss', 'precision_macro','recall_macro','f1_macro']\n",
    "\n",
    "scores = compare(models,X_train_preprocess.to_numpy(),y_train_label,nb_run, scoring)"
   ]
  },
  {
   "cell_type": "code",
   "execution_count": 93,
   "metadata": {},
   "outputs": [],
   "source": [
    "keys = [\n",
    "    'test_neg_log_loss',\n",
    "    'test_precision_macro',\n",
    "    'test_recall_macro',\n",
    "    'test_f1_macro'        \n",
    "]\n",
    "\n",
    "new_scores_mean = []\n",
    "new_scores_sd = []\n",
    "for score in scores:\n",
    "    current_new_score_mean = []\n",
    "    current_new_score_sd = []\n",
    "    for key in keys:\n",
    "        current_new_score_mean.append(score[key]['mean'])\n",
    "        current_new_score_sd.append(score[key]['standardDeviation'])\n",
    "    new_scores_sd.append(current_new_score_sd)\n",
    "    new_scores_mean.append(current_new_score_mean)"
   ]
  },
  {
   "cell_type": "code",
   "execution_count": 94,
   "metadata": {},
   "outputs": [
    {
     "name": "stdout",
     "output_type": "stream",
     "text": [
      "Tableau de moyenne\n"
     ]
    },
    {
     "data": {
      "text/html": [
       "<table>\n",
       "<tbody>\n",
       "<tr><td>                      </td><td style=\"text-align: center;\">      log loss      </td><td style=\"text-align: center;\">    precision     </td><td style=\"text-align: center;\">      recall      </td><td style=\"text-align: center;\">     f-score      </td></tr>\n",
       "<tr><td>RandomForestClassifier</td><td style=\"text-align: center;\">-0.9303095044435974 </td><td style=\"text-align: center;\">0.7900305925170107</td><td style=\"text-align: center;\">0.7448829628163262</td><td style=\"text-align: center;\">0.7627860058080683</td></tr>\n",
       "<tr><td>DecisionTreeClassifier</td><td style=\"text-align: center;\"> -6.445975029112813 </td><td style=\"text-align: center;\">0.7426326481002968</td><td style=\"text-align: center;\">0.7474827577241862</td><td style=\"text-align: center;\">0.7449763568585742</td></tr>\n",
       "<tr><td>MLPClassifier         </td><td style=\"text-align: center;\">-0.31682084547301786</td><td style=\"text-align: center;\">0.8043773391508022</td><td style=\"text-align: center;\">0.7732708331830218</td><td style=\"text-align: center;\">0.7866918704550111</td></tr>\n",
       "<tr><td>SoftmaxClassifier     </td><td style=\"text-align: center;\">-0.37722195122570623</td><td style=\"text-align: center;\">0.7847091015984532</td><td style=\"text-align: center;\">0.6581877095087837</td><td style=\"text-align: center;\">0.6846446692843648</td></tr>\n",
       "</tbody>\n",
       "</table>"
      ],
      "text/plain": [
       "<IPython.core.display.HTML object>"
      ]
     },
     "metadata": {},
     "output_type": "display_data"
    }
   ],
   "source": [
    "from IPython.display import HTML, display\n",
    "import tabulate\n",
    "\n",
    "# Tableau de moyenne\n",
    "table = [\n",
    "    [\"\",\"log loss\",\"precision\",\"recall\", \"f-score\"],\n",
    "    [\"RandomForestClassifier\",new_scores_mean[0][0], new_scores_mean[0][1], new_scores_mean[0][2], new_scores_mean[0][3]],\n",
    "    [\"DecisionTreeClassifier\",new_scores_mean[1][0], new_scores_mean[1][1], new_scores_mean[1][2], new_scores_mean[1][3]],\n",
    "    [\"MLPClassifier\",         new_scores_mean[2][0], new_scores_mean[2][1], new_scores_mean[2][2], new_scores_mean[2][3]],\n",
    "    [\"SoftmaxClassifier\",     new_scores_mean[3][0], new_scores_mean[3][1], new_scores_mean[3][2], new_scores_mean[3][3]]\n",
    "]\n",
    "print(\"Tableau de moyenne\")\n",
    "display(HTML(tabulate.tabulate(table, tablefmt='html', colalign=(\"left\", \"center\", \"center\", \"center\", \"center\"))))"
   ]
  },
  {
   "cell_type": "code",
   "execution_count": 95,
   "metadata": {},
   "outputs": [
    {
     "name": "stdout",
     "output_type": "stream",
     "text": [
      "Tableau d'écart type\n"
     ]
    },
    {
     "data": {
      "text/html": [
       "<table>\n",
       "<tbody>\n",
       "<tr><td>                      </td><td style=\"text-align: center;\">       log loss       </td><td style=\"text-align: center;\">      precision      </td><td style=\"text-align: center;\">       recall        </td><td style=\"text-align: center;\">       f-score        </td></tr>\n",
       "<tr><td>RandomForestClassifier</td><td style=\"text-align: center;\"> 0.042736447397571604 </td><td style=\"text-align: center;\">0.0007352445144673932</td><td style=\"text-align: center;\">0.0016533503614004556</td><td style=\"text-align: center;\"> 0.000941252998369174 </td></tr>\n",
       "<tr><td>DecisionTreeClassifier</td><td style=\"text-align: center;\"> 0.03928037991722535  </td><td style=\"text-align: center;\"> 0.00157182778222877 </td><td style=\"text-align: center;\">0.0024590889656655817</td><td style=\"text-align: center;\"> 0.001889562668705603 </td></tr>\n",
       "<tr><td>MLPClassifier         </td><td style=\"text-align: center;\">0.0025678156760268944 </td><td style=\"text-align: center;\">0.003208480715032455 </td><td style=\"text-align: center;\">0.001399485404936716 </td><td style=\"text-align: center;\">0.00035053010322921933</td></tr>\n",
       "<tr><td>SoftmaxClassifier     </td><td style=\"text-align: center;\">0.00046380428140794345</td><td style=\"text-align: center;\">0.0028592977273419313</td><td style=\"text-align: center;\">0.0034334602046690124</td><td style=\"text-align: center;\">0.0037176553135422176 </td></tr>\n",
       "</tbody>\n",
       "</table>"
      ],
      "text/plain": [
       "<IPython.core.display.HTML object>"
      ]
     },
     "metadata": {},
     "output_type": "display_data"
    }
   ],
   "source": [
    "# Tableau d'écart type\n",
    "table = [\n",
    "    [\"\",\"log loss\",\"precision\",\"recall\", \"f-score\"],\n",
    "    [\"RandomForestClassifier\",new_scores_sd[0][0], new_scores_sd[0][1], new_scores_sd[0][2], new_scores_sd[0][3]],\n",
    "    [\"DecisionTreeClassifier\",new_scores_sd[1][0], new_scores_sd[1][1], new_scores_sd[1][2], new_scores_sd[1][3]],\n",
    "    [\"MLPClassifier\",         new_scores_sd[2][0], new_scores_sd[2][1], new_scores_sd[2][2], new_scores_sd[2][3]],\n",
    "    [\"SoftmaxClassifier\",     new_scores_sd[3][0], new_scores_sd[3][1], new_scores_sd[3][2], new_scores_sd[3][3]]\n",
    "]\n",
    "print(\"Tableau d'écart type\")\n",
    "display(HTML(tabulate.tabulate(table, tablefmt='html', colalign=(\"left\", \"center\", \"center\", \"center\", \"center\"))))"
   ]
  },
  {
   "cell_type": "markdown",
   "metadata": {
    "colab_type": "text",
    "id": "kutzIhLu1frH"
   },
   "source": [
    "### choix du modèle\n",
    "En terme de précision, recall et f-score nous avons que le MLPClassifier est le meilleur classificateur sur les trois métriques. On constate aussi que l'écart type est moins significatif que les autres modèle. En effet, plus l'écart type est petit et plus notre modèle va retourner des résultats qui converge vers la moyenne. "
   ]
  },
  {
   "cell_type": "markdown",
   "metadata": {
    "colab_type": "text",
    "id": "_th8iyQ2XG1u"
   },
   "source": [
    "## 3.3 Matrice de confusion (0.5 point)\n",
    "\n",
    "La matrice de confusion A est telle que $A_{i,j}$ correspond au nombre d'exemples de la classe i classifié comme appartenant à la classe j.\n",
    "\n",
    "Entrainez le modèle sélectionné sur la totalité de l'ensemble d'entraînement.\n",
    "A l'aide de la matrice de confusion et de la distribution des classes, analysez plus en détail les performances du modèle choisi et **justifiez** les."
   ]
  },
  {
   "cell_type": "code",
   "execution_count": 96,
   "metadata": {
    "colab": {},
    "colab_type": "code",
    "id": "k_jCDj02XG1v"
   },
   "outputs": [],
   "source": [
    "# Train selected model\n",
    "selected_model = MLPClassifier(alpha=1e-05, hidden_layer_sizes=(15,), random_state=1,solver='lbfgs')\n",
    "selected_model.fit(X_train_preprocess, y_train_label)\n",
    "y_pred = selected_model.predict(X_train_preprocess)"
   ]
  },
  {
   "cell_type": "markdown",
   "metadata": {
    "colab_type": "text",
    "id": "ncXnd9W4XG1-"
   },
   "source": [
    "###### Matrice de confusion"
   ]
  },
  {
   "cell_type": "code",
   "execution_count": 97,
   "metadata": {
    "colab": {},
    "colab_type": "code",
    "id": "fV5tkE0bXG1_"
   },
   "outputs": [
    {
     "data": {
      "text/html": [
       "<div>\n",
       "<style scoped>\n",
       "    .dataframe tbody tr th:only-of-type {\n",
       "        vertical-align: middle;\n",
       "    }\n",
       "\n",
       "    .dataframe tbody tr th {\n",
       "        vertical-align: top;\n",
       "    }\n",
       "\n",
       "    .dataframe thead th {\n",
       "        text-align: right;\n",
       "    }\n",
       "</style>\n",
       "<table border=\"1\" class=\"dataframe\">\n",
       "  <thead>\n",
       "    <tr style=\"text-align: right;\">\n",
       "      <th></th>\n",
       "      <th>&lt;=50K</th>\n",
       "      <th>&gt;50K</th>\n",
       "    </tr>\n",
       "  </thead>\n",
       "  <tbody>\n",
       "    <tr>\n",
       "      <th>&lt;=50K</th>\n",
       "      <td>23402</td>\n",
       "      <td>1547</td>\n",
       "    </tr>\n",
       "    <tr>\n",
       "      <th>&gt;50K</th>\n",
       "      <td>2832</td>\n",
       "      <td>4942</td>\n",
       "    </tr>\n",
       "  </tbody>\n",
       "</table>\n",
       "</div>"
      ],
      "text/plain": [
       "       <=50K  >50K\n",
       "<=50K  23402  1547\n",
       ">50K    2832  4942"
      ]
     },
     "execution_count": 97,
     "metadata": {},
     "output_type": "execute_result"
    }
   ],
   "source": [
    "from sklearn.metrics import confusion_matrix\n",
    "pd.DataFrame(confusion_matrix(y_train_label, y_pred), columns = target_label.classes_, index = target_label.classes_)"
   ]
  },
  {
   "cell_type": "markdown",
   "metadata": {
    "colab_type": "text",
    "id": "2HyBqtMjXG2B"
   },
   "source": [
    "###### Distribution des classes"
   ]
  },
  {
   "cell_type": "code",
   "execution_count": 99,
   "metadata": {
    "colab": {},
    "colab_type": "code",
    "id": "Z_emYEYKXG2B",
    "scrolled": true
   },
   "outputs": [
    {
     "name": "stdout",
     "output_type": "stream",
     "text": [
      "['<=50K' '>50K']\n"
     ]
    },
    {
     "data": {
      "text/plain": [
       "<matplotlib.axes._subplots.AxesSubplot at 0x2339629cb70>"
      ]
     },
     "execution_count": 99,
     "metadata": {},
     "output_type": "execute_result"
    },
    {
     "data": {
      "image/png": "[encoded data removed]",
      "text/plain": [
       "<Figure size 432x288 with 1 Axes>"
      ]
     },
     "metadata": {
      "needs_background": "light"
     },
     "output_type": "display_data"
    }
   ],
   "source": [
    "import matplotlib.pyplot as plt \n",
    "print(target_label.classes_)\n",
    "pd.Series(y_train_label).hist()"
   ]
  },
  {
   "cell_type": "markdown",
   "metadata": {
    "colab_type": "text",
    "id": "ee-L7b131tf3"
   },
   "source": [
    "Justification avec la matrice de confusion et la distribution des classes\n",
    "\n",
    "Avec le MLPClassifier, nous observons que 2831 salaires qui devraient etre predits tel que <=50K ont ete predit en tant que >50K. La meme chose avec 1559 salaires de >50K qui devraient etre <=50K. Ces erreurs peuvent etre du au fait aux donnés manquantes. Dans les données categoriques nous ajoutons toujours des données fixes. Comme par exemple pour occupation, nous ajouton"
   ]
  },
  {
   "cell_type": "markdown",
   "metadata": {
    "colab_type": "text",
    "id": "5lfReUdgXG2I"
   },
   "source": [
    "## 3.4 Soumission (0.5 point)\n",
    "\n",
    "Enfin, effectuez la prédiction sur l'ensemble de test et joignez les résultats au rendu du TP. Vous devez soumettre vos résultats sur kaggle. Vous pouvez choisir jusqu'à deux modèles. Par défaut, les deux dernières soumissions sont prises. La justification (les section 3.2 et 3.3) sont seulement demandée pour le meilleur modèle selon vous.\n",
    "\n",
    "**ATTENTION:** N'oubliez pas de respecter le format du fichier de soumission. En cas d'erreur, Kaggle score 0.0 pour la soumission."
   ]
  },
  {
   "cell_type": "code",
   "execution_count": 414,
   "metadata": {
    "colab": {},
    "colab_type": "code",
    "id": "-deVgNIpXG2J"
   },
   "outputs": [],
   "source": [
    " best_model_1 = MLPClassifier(alpha=1e-05, hidden_layer_sizes=(20,), random_state=1,solver='lbfgs')\n",
    " #best_model_1 = DecisionTreeClassifier()\n",
    " best_model_1.fit(X_train_preprocess,y_train_label)\n",
    " y_pred = best_model_1.predict(X_test_preprocess)\n",
    " pred_test = pd.DataFrame()\n",
    " #Nous ajoutons la colonne index car keggle demande cette colonne et nous ajouton le label income a pred_test\n",
    " pred_test['Index'] = X_test['index']\n",
    " pred_test['Income'] = pd.Series(y_pred)\n",
    " #transformons les donnes dans le format demande\n",
    " pred_test['Income'] = [ '<=50K' if (x == 0) else '>50K' for x in pred_test['Income']]\n",
    " pred_test.to_csv(\"N_Network.csv\",index = False)\n"
   ]
  },
  {
   "cell_type": "code",
   "execution_count": null,
   "metadata": {},
   "outputs": [],
   "source": []
  }
 ],
 "metadata": {
  "colab": {
   "collapsed_sections": [],
   "name": "TP3_INF8215.ipynb",
   "provenance": [],
   "toc_visible": true
  },
  "kernelspec": {
   "display_name": "Python 3",
   "language": "python",
   "name": "python3"
  },
  "language_info": {
   "codemirror_mode": {
    "name": "ipython",
    "version": 3
   },
   "file_extension": ".py",
   "mimetype": "text/x-python",
   "name": "python",
   "nbconvert_exporter": "python",
   "pygments_lexer": "ipython3",
   "version": "3.6.5"
  }
 },
 "nbformat": 4,
 "nbformat_minor": 1
}
